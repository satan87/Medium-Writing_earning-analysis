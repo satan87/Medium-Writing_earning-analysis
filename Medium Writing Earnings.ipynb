{
 "cells": [
  {
   "cell_type": "markdown",
   "metadata": {},
   "source": [
    "# Writing Earnings"
   ]
  },
  {
   "cell_type": "code",
   "execution_count": 1,
   "metadata": {
    "ExecuteTime": {
     "end_time": "2020-06-20T14:29:12.606061Z",
     "start_time": "2020-06-20T14:29:12.602705Z"
    }
   },
   "outputs": [],
   "source": [
    "# Data manipulation\n",
    "import pandas as pd\n",
    "from enum import Enum"
   ]
  },
  {
   "cell_type": "code",
   "execution_count": 2,
   "metadata": {
    "ExecuteTime": {
     "end_time": "2020-06-20T14:29:12.624812Z",
     "start_time": "2020-06-20T14:29:12.608554Z"
    }
   },
   "outputs": [],
   "source": [
    "Tax = 0.7\n",
    "class Month(Enum):\n",
    "    January = 1\n",
    "    February = 2\n",
    "    March = 3\n",
    "    April = 4\n",
    "    May = 5\n",
    "    June = 6\n",
    "    July = 7\n",
    "    August = 8\n",
    "    September = 9\n",
    "    October = 10\n",
    "    November = 11\n",
    "    December = 12\n",
    "\n",
    "class Platform(Enum):\n",
    "    Medium = 1"
   ]
  },
  {
   "cell_type": "code",
   "execution_count": 3,
   "metadata": {
    "ExecuteTime": {
     "end_time": "2020-06-20T14:29:12.631174Z",
     "start_time": "2020-06-20T14:29:12.626715Z"
    }
   },
   "outputs": [],
   "source": [
    "class Story:\n",
    "    title = \"\"\n",
    "    words = 0\n",
    "    lectureTime = 0\n",
    "    \n",
    "    def __init__(self, title, words, time):\n",
    "        self.title = title\n",
    "        self.words = words\n",
    "        self.lectureTime = time\n",
    "        \n",
    "class Stories(Enum):\n",
    "    GETTING_STARTED_TDD = Story(\"Getting Started With TDD\", 700, 4)\n",
    "    THINK_YOU_WERE_RIGHT = Story(\"You think you were right, Think Again...\", 1086, 5)\n",
    "    INTRO_SWIFT_PACKAGE = Story(\"A brief intro to Swift packages\", 967, 5)"
   ]
  },
  {
   "cell_type": "code",
   "execution_count": 4,
   "metadata": {
    "ExecuteTime": {
     "end_time": "2020-06-20T14:29:12.638076Z",
     "start_time": "2020-06-20T14:29:12.633501Z"
    }
   },
   "outputs": [],
   "source": [
    "class Gain:\n",
    "    story = Stories.GETTING_STARTED_TDD\n",
    "    platform = Platform.Medium\n",
    "    month = Month.January\n",
    "    year = 2020\n",
    "    gain = 0\n",
    "    \n",
    "    def __init__(self, story, platform, month, year, gain):\n",
    "        self.story = story\n",
    "        self.platform = platform\n",
    "        self.month = month\n",
    "        self.year = year\n",
    "        self.gain = gain"
   ]
  },
  {
   "cell_type": "code",
   "execution_count": 5,
   "metadata": {
    "ExecuteTime": {
     "end_time": "2020-06-20T14:29:12.645655Z",
     "start_time": "2020-06-20T14:29:12.639467Z"
    }
   },
   "outputs": [],
   "source": [
    "money = [\n",
    "    Gain(Stories.GETTING_STARTED_TDD, Platform.Medium, Month.January, 2020, 1.35),\n",
    "    Gain(Stories.GETTING_STARTED_TDD, Platform.Medium, Month.February, 2020, 1.22),\n",
    "    Gain(Stories.THINK_YOU_WERE_RIGHT, Platform.Medium, Month.February, 2020, 0.01),\n",
    "    Gain(Stories.GETTING_STARTED_TDD, Platform.Medium, Month.March, 2020, 0.73),\n",
    "    Gain(Stories.GETTING_STARTED_TDD, Platform.Medium, Month.April, 2020, 1.22),\n",
    "    Gain(Stories.GETTING_STARTED_TDD, Platform.Medium, Month.May, 2020, 1.09),\n",
    "    Gain(Stories.INTRO_SWIFT_PACKAGE, Platform.Medium, Month.May, 2020, 0.02),\n",
    "    Gain(Stories.GETTING_STARTED_TDD, Platform.Medium, Month.June, 2020, 1.50),\n",
    "    Gain(Stories.THINK_YOU_WERE_RIGHT, Platform.Medium, Month.June, 2020, 0.04)\n",
    "]"
   ]
  },
  {
   "cell_type": "code",
   "execution_count": 6,
   "metadata": {
    "ExecuteTime": {
     "end_time": "2020-06-20T14:29:12.653616Z",
     "start_time": "2020-06-20T14:29:12.647708Z"
    }
   },
   "outputs": [],
   "source": [
    "# We put all the data into the same array\n",
    "data = []\n",
    "for m in money:\n",
    "    ligne = []\n",
    "    ligne.append(m.year) # We get the year\n",
    "    ligne.append(m.month.name) # We get the month\n",
    "    ligne.append(m.month.value) # We get the month index\n",
    "    ligne.append(m.story.value.title) # We get the story\n",
    "    ligne.append(m.story.value.words) #We get the word count\n",
    "    ligne.append(m.story.value.lectureTime) #We get the length\n",
    "    ligne.append(m.platform.name) #We get the plateform\n",
    "    ligne.append(m.gain) # Gain before tax\n",
    "    ligne.append(m.gain * Tax) # Gain After tax\n",
    "    data.append(ligne)\n",
    "#data    "
   ]
  },
  {
   "cell_type": "code",
   "execution_count": 7,
   "metadata": {
    "ExecuteTime": {
     "end_time": "2020-06-20T14:29:12.682172Z",
     "start_time": "2020-06-20T14:29:12.655554Z"
    }
   },
   "outputs": [
    {
     "data": {
      "text/html": [
       "<div>\n",
       "<style scoped>\n",
       "    .dataframe tbody tr th:only-of-type {\n",
       "        vertical-align: middle;\n",
       "    }\n",
       "\n",
       "    .dataframe tbody tr th {\n",
       "        vertical-align: top;\n",
       "    }\n",
       "\n",
       "    .dataframe thead th {\n",
       "        text-align: right;\n",
       "    }\n",
       "</style>\n",
       "<table border=\"1\" class=\"dataframe\">\n",
       "  <thead>\n",
       "    <tr style=\"text-align: right;\">\n",
       "      <th></th>\n",
       "      <th>YEAR</th>\n",
       "      <th>MONTH</th>\n",
       "      <th>MONTHINDEX</th>\n",
       "      <th>STORY</th>\n",
       "      <th>WORD</th>\n",
       "      <th>LECTURETIME</th>\n",
       "      <th>PLATEFORM</th>\n",
       "      <th>GAINBT</th>\n",
       "      <th>GAINAT</th>\n",
       "    </tr>\n",
       "  </thead>\n",
       "  <tbody>\n",
       "    <tr>\n",
       "      <th>0</th>\n",
       "      <td>2020</td>\n",
       "      <td>January</td>\n",
       "      <td>1</td>\n",
       "      <td>Getting Started With TDD</td>\n",
       "      <td>700</td>\n",
       "      <td>4</td>\n",
       "      <td>Medium</td>\n",
       "      <td>1.35</td>\n",
       "      <td>0.945</td>\n",
       "    </tr>\n",
       "    <tr>\n",
       "      <th>1</th>\n",
       "      <td>2020</td>\n",
       "      <td>February</td>\n",
       "      <td>2</td>\n",
       "      <td>Getting Started With TDD</td>\n",
       "      <td>700</td>\n",
       "      <td>4</td>\n",
       "      <td>Medium</td>\n",
       "      <td>1.22</td>\n",
       "      <td>0.854</td>\n",
       "    </tr>\n",
       "    <tr>\n",
       "      <th>2</th>\n",
       "      <td>2020</td>\n",
       "      <td>February</td>\n",
       "      <td>2</td>\n",
       "      <td>You think you were right, Think Again...</td>\n",
       "      <td>1086</td>\n",
       "      <td>5</td>\n",
       "      <td>Medium</td>\n",
       "      <td>0.01</td>\n",
       "      <td>0.007</td>\n",
       "    </tr>\n",
       "    <tr>\n",
       "      <th>3</th>\n",
       "      <td>2020</td>\n",
       "      <td>March</td>\n",
       "      <td>3</td>\n",
       "      <td>Getting Started With TDD</td>\n",
       "      <td>700</td>\n",
       "      <td>4</td>\n",
       "      <td>Medium</td>\n",
       "      <td>0.73</td>\n",
       "      <td>0.511</td>\n",
       "    </tr>\n",
       "    <tr>\n",
       "      <th>4</th>\n",
       "      <td>2020</td>\n",
       "      <td>April</td>\n",
       "      <td>4</td>\n",
       "      <td>Getting Started With TDD</td>\n",
       "      <td>700</td>\n",
       "      <td>4</td>\n",
       "      <td>Medium</td>\n",
       "      <td>1.22</td>\n",
       "      <td>0.854</td>\n",
       "    </tr>\n",
       "    <tr>\n",
       "      <th>5</th>\n",
       "      <td>2020</td>\n",
       "      <td>May</td>\n",
       "      <td>5</td>\n",
       "      <td>Getting Started With TDD</td>\n",
       "      <td>700</td>\n",
       "      <td>4</td>\n",
       "      <td>Medium</td>\n",
       "      <td>1.09</td>\n",
       "      <td>0.763</td>\n",
       "    </tr>\n",
       "    <tr>\n",
       "      <th>6</th>\n",
       "      <td>2020</td>\n",
       "      <td>May</td>\n",
       "      <td>5</td>\n",
       "      <td>A brief intro to Swift packages</td>\n",
       "      <td>967</td>\n",
       "      <td>5</td>\n",
       "      <td>Medium</td>\n",
       "      <td>0.02</td>\n",
       "      <td>0.014</td>\n",
       "    </tr>\n",
       "    <tr>\n",
       "      <th>7</th>\n",
       "      <td>2020</td>\n",
       "      <td>June</td>\n",
       "      <td>6</td>\n",
       "      <td>Getting Started With TDD</td>\n",
       "      <td>700</td>\n",
       "      <td>4</td>\n",
       "      <td>Medium</td>\n",
       "      <td>1.50</td>\n",
       "      <td>1.050</td>\n",
       "    </tr>\n",
       "    <tr>\n",
       "      <th>8</th>\n",
       "      <td>2020</td>\n",
       "      <td>June</td>\n",
       "      <td>6</td>\n",
       "      <td>You think you were right, Think Again...</td>\n",
       "      <td>1086</td>\n",
       "      <td>5</td>\n",
       "      <td>Medium</td>\n",
       "      <td>0.04</td>\n",
       "      <td>0.028</td>\n",
       "    </tr>\n",
       "  </tbody>\n",
       "</table>\n",
       "</div>"
      ],
      "text/plain": [
       "   YEAR     MONTH  MONTHINDEX                                     STORY  WORD  \\\n",
       "0  2020   January           1                  Getting Started With TDD   700   \n",
       "1  2020  February           2                  Getting Started With TDD   700   \n",
       "2  2020  February           2  You think you were right, Think Again...  1086   \n",
       "3  2020     March           3                  Getting Started With TDD   700   \n",
       "4  2020     April           4                  Getting Started With TDD   700   \n",
       "5  2020       May           5                  Getting Started With TDD   700   \n",
       "6  2020       May           5           A brief intro to Swift packages   967   \n",
       "7  2020      June           6                  Getting Started With TDD   700   \n",
       "8  2020      June           6  You think you were right, Think Again...  1086   \n",
       "\n",
       "   LECTURETIME PLATEFORM  GAINBT  GAINAT  \n",
       "0            4    Medium    1.35   0.945  \n",
       "1            4    Medium    1.22   0.854  \n",
       "2            5    Medium    0.01   0.007  \n",
       "3            4    Medium    0.73   0.511  \n",
       "4            4    Medium    1.22   0.854  \n",
       "5            4    Medium    1.09   0.763  \n",
       "6            5    Medium    0.02   0.014  \n",
       "7            4    Medium    1.50   1.050  \n",
       "8            5    Medium    0.04   0.028  "
      ]
     },
     "execution_count": 7,
     "metadata": {},
     "output_type": "execute_result"
    }
   ],
   "source": [
    "#We put the data inside a DATA FRAME - To do calculation\n",
    "dataFrame = pd.DataFrame(data, columns=[\"YEAR\",\"MONTH\",\"MONTHINDEX\",\"STORY\",\"WORD\",\"LECTURETIME\",\"PLATEFORM\",\"GAINBT\",\"GAINAT\"])\n",
    "dataFrame"
   ]
  },
  {
   "cell_type": "code",
   "execution_count": 8,
   "metadata": {
    "ExecuteTime": {
     "end_time": "2020-06-20T14:29:12.696350Z",
     "start_time": "2020-06-20T14:29:12.684655Z"
    }
   },
   "outputs": [
    {
     "data": {
      "text/plain": [
       "YEAR\n",
       "2020    5.026\n",
       "Name: GAINAT, dtype: float64"
      ]
     },
     "execution_count": 8,
     "metadata": {},
     "output_type": "execute_result"
    }
   ],
   "source": [
    "#Money Gain Per Year\n",
    "dataFrame.groupby([\"YEAR\"])[\"GAINAT\"].sum()"
   ]
  },
  {
   "cell_type": "code",
   "execution_count": 9,
   "metadata": {
    "ExecuteTime": {
     "end_time": "2020-06-20T14:29:13.119543Z",
     "start_time": "2020-06-20T14:29:12.698682Z"
    }
   },
   "outputs": [
    {
     "data": {
      "text/plain": [
       "<matplotlib.axes._subplots.AxesSubplot at 0x7eff963c96d0>"
      ]
     },
     "execution_count": 9,
     "metadata": {},
     "output_type": "execute_result"
    },
    {
     "data": {
      "image/png": "[encoded data removed]",
      "text/plain": [
       "<Figure size 432x288 with 1 Axes>"
      ]
     },
     "metadata": {
      "needs_background": "light"
     },
     "output_type": "display_data"
    }
   ],
   "source": [
    "#Money Gain Per Year\n",
    "dataFrame.groupby([\"YEAR\"])[\"GAINAT\"].sum().plot(kind='bar')"
   ]
  },
  {
   "cell_type": "code",
   "execution_count": 10,
   "metadata": {
    "ExecuteTime": {
     "end_time": "2020-06-20T14:29:13.229864Z",
     "start_time": "2020-06-20T14:29:13.122107Z"
    }
   },
   "outputs": [
    {
     "data": {
      "text/plain": [
       "<matplotlib.axes._subplots.AxesSubplot at 0x7eff95345410>"
      ]
     },
     "execution_count": 10,
     "metadata": {},
     "output_type": "execute_result"
    },
    {
     "data": {
      "image/png": "[encoded data removed]",
      "text/plain": [
       "<Figure size 432x288 with 1 Axes>"
      ]
     },
     "metadata": {
      "needs_background": "light"
     },
     "output_type": "display_data"
    }
   ],
   "source": [
    "#Money Gain Per Year / Month\n",
    "gpm = dataFrame.groupby([\"YEAR\",\"MONTHINDEX\"])[\"GAINAT\"]\n",
    "gpm.sum().plot(kind='line')"
   ]
  },
  {
   "cell_type": "code",
   "execution_count": 11,
   "metadata": {
    "ExecuteTime": {
     "end_time": "2020-06-20T14:29:13.243934Z",
     "start_time": "2020-06-20T14:29:13.233452Z"
    }
   },
   "outputs": [
    {
     "data": {
      "text/plain": [
       "YEAR  MONTHINDEX\n",
       "2020  1             0.945\n",
       "      2             0.861\n",
       "      3             0.511\n",
       "      4             0.854\n",
       "      5             0.777\n",
       "      6             1.078\n",
       "Name: GAINAT, dtype: float64"
      ]
     },
     "execution_count": 11,
     "metadata": {},
     "output_type": "execute_result"
    }
   ],
   "source": [
    "#Money Gain Per Year / Month\n",
    "gpm = dataFrame.groupby([\"YEAR\",\"MONTHINDEX\"])[\"GAINAT\"]\n",
    "gpm.sum()"
   ]
  },
  {
   "cell_type": "code",
   "execution_count": 12,
   "metadata": {
    "ExecuteTime": {
     "end_time": "2020-06-20T14:29:13.254954Z",
     "start_time": "2020-06-20T14:29:13.246102Z"
    }
   },
   "outputs": [
    {
     "data": {
      "text/plain": [
       "STORY\n",
       "A brief intro to Swift packages             0.014\n",
       "Getting Started With TDD                    4.977\n",
       "You think you were right, Think Again...    0.035\n",
       "Name: GAINAT, dtype: float64"
      ]
     },
     "execution_count": 12,
     "metadata": {},
     "output_type": "execute_result"
    }
   ],
   "source": [
    "#Money Gain Per Storie\n",
    "dataFrame.groupby([\"STORY\"])[\"GAINAT\"].sum()"
   ]
  },
  {
   "cell_type": "code",
   "execution_count": 13,
   "metadata": {
    "ExecuteTime": {
     "end_time": "2020-06-20T14:29:13.354699Z",
     "start_time": "2020-06-20T14:29:13.257110Z"
    }
   },
   "outputs": [
    {
     "data": {
      "text/plain": [
       "<matplotlib.axes._subplots.AxesSubplot at 0x7eff952d9750>"
      ]
     },
     "execution_count": 13,
     "metadata": {},
     "output_type": "execute_result"
    },
    {
     "data": {
      "image/png": "[encoded data removed]",
      "text/plain": [
       "<Figure size 432x288 with 1 Axes>"
      ]
     },
     "metadata": {
      "needs_background": "light"
     },
     "output_type": "display_data"
    }
   ],
   "source": [
    "#Money Gain Per Storie\n",
    "dataFrame.groupby([\"STORY\"])[\"GAINAT\"].sum().plot(kind='bar')"
   ]
  }
 ],
 "metadata": {
  "kernelspec": {
   "display_name": "Python 3",
   "language": "python",
   "name": "python3"
  },
  "language_info": {
   "codemirror_mode": {
    "name": "ipython",
    "version": 3
   },
   "file_extension": ".py",
   "mimetype": "text/x-python",
   "name": "python",
   "nbconvert_exporter": "python",
   "pygments_lexer": "ipython3",
   "version": "3.7.6"
  },
  "toc": {
   "base_numbering": 1,
   "nav_menu": {},
   "number_sections": false,
   "sideBar": false,
   "skip_h1_title": false,
   "title_cell": "Table of Contents",
   "title_sidebar": "Contents",
   "toc_cell": false,
   "toc_position": {},
   "toc_section_display": false,
   "toc_window_display": false
  }
 },
 "nbformat": 4,
 "nbformat_minor": 2
}
