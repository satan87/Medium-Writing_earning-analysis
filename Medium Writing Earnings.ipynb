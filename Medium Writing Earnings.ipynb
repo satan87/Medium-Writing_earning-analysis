{
 "cells": [
  {
   "cell_type": "markdown",
   "metadata": {},
   "source": [
    "# Medium Writing Earnings"
   ]
  },
  {
   "cell_type": "markdown",
   "metadata": {},
   "source": [
    "#### IMPORTS"
   ]
  },
  {
   "cell_type": "code",
   "execution_count": 1,
   "metadata": {
    "ExecuteTime": {
     "end_time": "2020-06-20T20:55:42.504781Z",
     "start_time": "2020-06-20T20:55:42.501185Z"
    }
   },
   "outputs": [],
   "source": [
    "import pandas as pd\n",
    "from enum import Enum\n",
    "from IPython.core.interactiveshell import InteractiveShell\n",
    "InteractiveShell.ast_node_interactivity = \"all\""
   ]
  },
  {
   "cell_type": "markdown",
   "metadata": {},
   "source": [
    "####  MONTHS LIST"
   ]
  },
  {
   "cell_type": "code",
   "execution_count": 2,
   "metadata": {
    "ExecuteTime": {
     "end_time": "2020-06-20T20:55:42.511444Z",
     "start_time": "2020-06-20T20:55:42.507035Z"
    }
   },
   "outputs": [],
   "source": [
    "class Month(Enum):\n",
    "    January = 1\n",
    "    February = 2\n",
    "    March = 3\n",
    "    April = 4\n",
    "    May = 5\n",
    "    June = 6\n",
    "    July = 7\n",
    "    August = 8\n",
    "    September = 9\n",
    "    October = 10\n",
    "    November = 11\n",
    "    December = 12"
   ]
  },
  {
   "cell_type": "markdown",
   "metadata": {},
   "source": [
    "#### STORY CLASS"
   ]
  },
  {
   "cell_type": "code",
   "execution_count": 3,
   "metadata": {
    "ExecuteTime": {
     "end_time": "2020-06-20T20:55:42.517941Z",
     "start_time": "2020-06-20T20:55:42.513961Z"
    }
   },
   "outputs": [],
   "source": [
    "class Story:\n",
    "    title = \"\"\n",
    "    words = 0\n",
    "    lectureTime = 0\n",
    "    \n",
    "    def __init__(self, title, words, time):\n",
    "        self.title = title\n",
    "        self.words = words\n",
    "        self.lectureTime = time"
   ]
  },
  {
   "cell_type": "markdown",
   "metadata": {},
   "source": [
    "#### PLATFORM LIST"
   ]
  },
  {
   "cell_type": "code",
   "execution_count": 4,
   "metadata": {
    "ExecuteTime": {
     "end_time": "2020-06-20T20:55:42.523313Z",
     "start_time": "2020-06-20T20:55:42.520263Z"
    }
   },
   "outputs": [],
   "source": [
    "class Platform(Enum):\n",
    "    Medium = 1"
   ]
  },
  {
   "cell_type": "markdown",
   "metadata": {},
   "source": [
    "#### GAIN CLASS"
   ]
  },
  {
   "cell_type": "code",
   "execution_count": 5,
   "metadata": {
    "ExecuteTime": {
     "end_time": "2020-06-20T20:55:42.529817Z",
     "start_time": "2020-06-20T20:55:42.525385Z"
    }
   },
   "outputs": [],
   "source": [
    "class Gain:\n",
    "    story = \"\"\n",
    "    platform = Platform.Medium\n",
    "    month = Month.January\n",
    "    year = 2020\n",
    "    gain = 0\n",
    "    \n",
    "    def __init__(self, story, platform, month, year, gain):\n",
    "        self.story = story\n",
    "        self.platform = platform\n",
    "        self.month = month\n",
    "        self.year = year\n",
    "        self.gain = gain"
   ]
  },
  {
   "cell_type": "markdown",
   "metadata": {},
   "source": [
    "## -- DATA --"
   ]
  },
  {
   "cell_type": "markdown",
   "metadata": {},
   "source": [
    "#### TAX RATE"
   ]
  },
  {
   "cell_type": "code",
   "execution_count": 6,
   "metadata": {
    "ExecuteTime": {
     "end_time": "2020-06-20T20:55:42.534850Z",
     "start_time": "2020-06-20T20:55:42.531648Z"
    }
   },
   "outputs": [],
   "source": [
    "Tax = 0.7"
   ]
  },
  {
   "cell_type": "markdown",
   "metadata": {},
   "source": [
    "#### YOUR STORIES"
   ]
  },
  {
   "cell_type": "code",
   "execution_count": 7,
   "metadata": {
    "ExecuteTime": {
     "end_time": "2020-06-20T20:55:42.541052Z",
     "start_time": "2020-06-20T20:55:42.536296Z"
    }
   },
   "outputs": [],
   "source": [
    "class Stories(Enum):\n",
    "    STORY_1_TITLE = Story(\"My First Story\", 500, 3)\n",
    "    STORY_2_TITLE = Story(\"My Second Story\", 1000, 5)"
   ]
  },
  {
   "cell_type": "markdown",
   "metadata": {},
   "source": [
    "#### YOUR GAINS"
   ]
  },
  {
   "cell_type": "code",
   "execution_count": 8,
   "metadata": {
    "ExecuteTime": {
     "end_time": "2020-06-20T20:55:42.551010Z",
     "start_time": "2020-06-20T20:55:42.545011Z"
    }
   },
   "outputs": [],
   "source": [
    "gains = [\n",
    "    Gain(Stories.STORY_1_TITLE, Platform.Medium, Month.January, 2020, 8.00),\n",
    "    Gain(Stories.STORY_1_TITLE, Platform.Medium, Month.February, 2020, 9.00),\n",
    "    Gain(Stories.STORY_1_TITLE, Platform.Medium, Month.March, 2020, 7.00),\n",
    "    Gain(Stories.STORY_2_TITLE, Platform.Medium, Month.March, 2020, 3.00),\n",
    "    Gain(Stories.STORY_1_TITLE, Platform.Medium, Month.May, 2020, 9.00),\n",
    "    Gain(Stories.STORY_2_TITLE, Platform.Medium, Month.May, 2020, 10.00),\n",
    "    Gain(Stories.STORY_1_TITLE, Platform.Medium, Month.June, 2020, 11.00),\n",
    "    Gain(Stories.STORY_2_TITLE, Platform.Medium, Month.June, 2020, 7.00)\n",
    "]"
   ]
  },
  {
   "cell_type": "markdown",
   "metadata": {
    "ExecuteTime": {
     "end_time": "2020-06-20T20:14:20.363860Z",
     "start_time": "2020-06-20T20:14:20.361076Z"
    }
   },
   "source": [
    "## -- LET THE MAGIC HAPPENED --"
   ]
  },
  {
   "cell_type": "code",
   "execution_count": 9,
   "metadata": {
    "ExecuteTime": {
     "end_time": "2020-06-20T20:55:42.558955Z",
     "start_time": "2020-06-20T20:55:42.553898Z"
    }
   },
   "outputs": [],
   "source": [
    "# We put all the data into the same array\n",
    "myData = []\n",
    "for gain in gains:\n",
    "    ligne = []\n",
    "    ligne.append(gain.year) # We get the year\n",
    "    ligne.append(gain.month.name) # We get the month\n",
    "    ligne.append(gain.month.value) # We get the month index\n",
    "    ligne.append(gain.story.value.title) # We get the story\n",
    "    ligne.append(gain.story.value.words) #We get the word count\n",
    "    ligne.append(gain.story.value.lectureTime) #We get the length\n",
    "    ligne.append(gain.platform.name) #We get the plateform\n",
    "    ligne.append(gain.gain) # Gain before tax\n",
    "    ligne.append(gain.gain * Tax) # Gain After tax\n",
    "    myData.append(ligne)   "
   ]
  },
  {
   "cell_type": "code",
   "execution_count": 10,
   "metadata": {
    "ExecuteTime": {
     "end_time": "2020-06-20T20:55:42.579363Z",
     "start_time": "2020-06-20T20:55:42.561178Z"
    },
    "scrolled": true
   },
   "outputs": [
    {
     "data": {
      "text/html": [
       "<div>\n",
       "<style scoped>\n",
       "    .dataframe tbody tr th:only-of-type {\n",
       "        vertical-align: middle;\n",
       "    }\n",
       "\n",
       "    .dataframe tbody tr th {\n",
       "        vertical-align: top;\n",
       "    }\n",
       "\n",
       "    .dataframe thead th {\n",
       "        text-align: right;\n",
       "    }\n",
       "</style>\n",
       "<table border=\"1\" class=\"dataframe\">\n",
       "  <thead>\n",
       "    <tr style=\"text-align: right;\">\n",
       "      <th></th>\n",
       "      <th>YEAR</th>\n",
       "      <th>MONTH</th>\n",
       "      <th>MONTHINDEX</th>\n",
       "      <th>STORY</th>\n",
       "      <th>WORD</th>\n",
       "      <th>LECTURETIME</th>\n",
       "      <th>PLATEFORM</th>\n",
       "      <th>GAIN BEF TAX</th>\n",
       "      <th>GAIN AFT TAX</th>\n",
       "    </tr>\n",
       "  </thead>\n",
       "  <tbody>\n",
       "    <tr>\n",
       "      <th>0</th>\n",
       "      <td>2020</td>\n",
       "      <td>January</td>\n",
       "      <td>1</td>\n",
       "      <td>My First Story</td>\n",
       "      <td>500</td>\n",
       "      <td>3</td>\n",
       "      <td>Medium</td>\n",
       "      <td>8.0</td>\n",
       "      <td>5.6</td>\n",
       "    </tr>\n",
       "    <tr>\n",
       "      <th>1</th>\n",
       "      <td>2020</td>\n",
       "      <td>February</td>\n",
       "      <td>2</td>\n",
       "      <td>My First Story</td>\n",
       "      <td>500</td>\n",
       "      <td>3</td>\n",
       "      <td>Medium</td>\n",
       "      <td>9.0</td>\n",
       "      <td>6.3</td>\n",
       "    </tr>\n",
       "    <tr>\n",
       "      <th>2</th>\n",
       "      <td>2020</td>\n",
       "      <td>March</td>\n",
       "      <td>3</td>\n",
       "      <td>My First Story</td>\n",
       "      <td>500</td>\n",
       "      <td>3</td>\n",
       "      <td>Medium</td>\n",
       "      <td>7.0</td>\n",
       "      <td>4.9</td>\n",
       "    </tr>\n",
       "    <tr>\n",
       "      <th>3</th>\n",
       "      <td>2020</td>\n",
       "      <td>March</td>\n",
       "      <td>3</td>\n",
       "      <td>My Second Story</td>\n",
       "      <td>1000</td>\n",
       "      <td>5</td>\n",
       "      <td>Medium</td>\n",
       "      <td>3.0</td>\n",
       "      <td>2.1</td>\n",
       "    </tr>\n",
       "    <tr>\n",
       "      <th>4</th>\n",
       "      <td>2020</td>\n",
       "      <td>May</td>\n",
       "      <td>5</td>\n",
       "      <td>My First Story</td>\n",
       "      <td>500</td>\n",
       "      <td>3</td>\n",
       "      <td>Medium</td>\n",
       "      <td>9.0</td>\n",
       "      <td>6.3</td>\n",
       "    </tr>\n",
       "    <tr>\n",
       "      <th>5</th>\n",
       "      <td>2020</td>\n",
       "      <td>May</td>\n",
       "      <td>5</td>\n",
       "      <td>My Second Story</td>\n",
       "      <td>1000</td>\n",
       "      <td>5</td>\n",
       "      <td>Medium</td>\n",
       "      <td>10.0</td>\n",
       "      <td>7.0</td>\n",
       "    </tr>\n",
       "    <tr>\n",
       "      <th>6</th>\n",
       "      <td>2020</td>\n",
       "      <td>June</td>\n",
       "      <td>6</td>\n",
       "      <td>My First Story</td>\n",
       "      <td>500</td>\n",
       "      <td>3</td>\n",
       "      <td>Medium</td>\n",
       "      <td>11.0</td>\n",
       "      <td>7.7</td>\n",
       "    </tr>\n",
       "    <tr>\n",
       "      <th>7</th>\n",
       "      <td>2020</td>\n",
       "      <td>June</td>\n",
       "      <td>6</td>\n",
       "      <td>My Second Story</td>\n",
       "      <td>1000</td>\n",
       "      <td>5</td>\n",
       "      <td>Medium</td>\n",
       "      <td>7.0</td>\n",
       "      <td>4.9</td>\n",
       "    </tr>\n",
       "  </tbody>\n",
       "</table>\n",
       "</div>"
      ],
      "text/plain": [
       "   YEAR     MONTH  MONTHINDEX            STORY  WORD  LECTURETIME PLATEFORM  \\\n",
       "0  2020   January           1   My First Story   500            3    Medium   \n",
       "1  2020  February           2   My First Story   500            3    Medium   \n",
       "2  2020     March           3   My First Story   500            3    Medium   \n",
       "3  2020     March           3  My Second Story  1000            5    Medium   \n",
       "4  2020       May           5   My First Story   500            3    Medium   \n",
       "5  2020       May           5  My Second Story  1000            5    Medium   \n",
       "6  2020      June           6   My First Story   500            3    Medium   \n",
       "7  2020      June           6  My Second Story  1000            5    Medium   \n",
       "\n",
       "   GAIN BEF TAX  GAIN AFT TAX  \n",
       "0           8.0           5.6  \n",
       "1           9.0           6.3  \n",
       "2           7.0           4.9  \n",
       "3           3.0           2.1  \n",
       "4           9.0           6.3  \n",
       "5          10.0           7.0  \n",
       "6          11.0           7.7  \n",
       "7           7.0           4.9  "
      ]
     },
     "execution_count": 10,
     "metadata": {},
     "output_type": "execute_result"
    }
   ],
   "source": [
    "# We create the Panda Data Frame \n",
    "dataFrame = pd.DataFrame(myData, columns=[\"YEAR\",\"MONTH\",\"MONTHINDEX\",\"STORY\",\"WORD\",\"LECTURETIME\",\"PLATEFORM\",\"GAIN BEF TAX\",\"GAIN AFT TAX\"])\n",
    "dataFrame"
   ]
  },
  {
   "cell_type": "markdown",
   "metadata": {
    "ExecuteTime": {
     "end_time": "2020-06-20T20:19:01.555703Z",
     "start_time": "2020-06-20T20:19:01.552341Z"
    }
   },
   "source": [
    "## -- TOTAL GAIN PER YEAR --"
   ]
  },
  {
   "cell_type": "code",
   "execution_count": 11,
   "metadata": {
    "ExecuteTime": {
     "end_time": "2020-06-20T20:55:42.873906Z",
     "start_time": "2020-06-20T20:55:42.581610Z"
    }
   },
   "outputs": [
    {
     "data": {
      "text/html": [
       "<div>\n",
       "<style scoped>\n",
       "    .dataframe tbody tr th:only-of-type {\n",
       "        vertical-align: middle;\n",
       "    }\n",
       "\n",
       "    .dataframe tbody tr th {\n",
       "        vertical-align: top;\n",
       "    }\n",
       "\n",
       "    .dataframe thead th {\n",
       "        text-align: right;\n",
       "    }\n",
       "</style>\n",
       "<table border=\"1\" class=\"dataframe\">\n",
       "  <thead>\n",
       "    <tr style=\"text-align: right;\">\n",
       "      <th></th>\n",
       "      <th>YEAR</th>\n",
       "      <th>GAIN AFT TAX</th>\n",
       "    </tr>\n",
       "  </thead>\n",
       "  <tbody>\n",
       "    <tr>\n",
       "      <th>0</th>\n",
       "      <td>2020</td>\n",
       "      <td>44.8</td>\n",
       "    </tr>\n",
       "  </tbody>\n",
       "</table>\n",
       "</div>"
      ],
      "text/plain": [
       "   YEAR  GAIN AFT TAX\n",
       "0  2020          44.8"
      ]
     },
     "execution_count": 11,
     "metadata": {},
     "output_type": "execute_result"
    },
    {
     "data": {
      "text/plain": [
       "<matplotlib.axes._subplots.AxesSubplot at 0x7f02300b7b10>"
      ]
     },
     "execution_count": 11,
     "metadata": {},
     "output_type": "execute_result"
    },
    {
     "data": {
      "image/png": "[encoded data removed]",
      "text/plain": [
       "<Figure size 432x288 with 1 Axes>"
      ]
     },
     "metadata": {
      "needs_background": "light"
     },
     "output_type": "display_data"
    }
   ],
   "source": [
    "gainsPerYear = dataFrame.groupby([\"YEAR\"])[\"GAIN AFT TAX\"].sum()\n",
    "gainsPerYear.to_frame().reset_index()\n",
    "gainsPerYear.plot(kind='bar')"
   ]
  },
  {
   "cell_type": "markdown",
   "metadata": {
    "ExecuteTime": {
     "end_time": "2020-06-20T20:24:28.500578Z",
     "start_time": "2020-06-20T20:24:28.498276Z"
    }
   },
   "source": [
    "## -- TOTAL GAIN PER YEAR / PER MONTH --"
   ]
  },
  {
   "cell_type": "code",
   "execution_count": 12,
   "metadata": {
    "ExecuteTime": {
     "end_time": "2020-06-20T20:55:42.982913Z",
     "start_time": "2020-06-20T20:55:42.876441Z"
    }
   },
   "outputs": [
    {
     "data": {
      "text/html": [
       "<div>\n",
       "<style scoped>\n",
       "    .dataframe tbody tr th:only-of-type {\n",
       "        vertical-align: middle;\n",
       "    }\n",
       "\n",
       "    .dataframe tbody tr th {\n",
       "        vertical-align: top;\n",
       "    }\n",
       "\n",
       "    .dataframe thead th {\n",
       "        text-align: right;\n",
       "    }\n",
       "</style>\n",
       "<table border=\"1\" class=\"dataframe\">\n",
       "  <thead>\n",
       "    <tr style=\"text-align: right;\">\n",
       "      <th></th>\n",
       "      <th>YEAR</th>\n",
       "      <th>MONTHINDEX</th>\n",
       "      <th>GAIN AFT TAX</th>\n",
       "    </tr>\n",
       "  </thead>\n",
       "  <tbody>\n",
       "    <tr>\n",
       "      <th>0</th>\n",
       "      <td>2020</td>\n",
       "      <td>1</td>\n",
       "      <td>5.6</td>\n",
       "    </tr>\n",
       "    <tr>\n",
       "      <th>1</th>\n",
       "      <td>2020</td>\n",
       "      <td>2</td>\n",
       "      <td>6.3</td>\n",
       "    </tr>\n",
       "    <tr>\n",
       "      <th>2</th>\n",
       "      <td>2020</td>\n",
       "      <td>3</td>\n",
       "      <td>7.0</td>\n",
       "    </tr>\n",
       "    <tr>\n",
       "      <th>3</th>\n",
       "      <td>2020</td>\n",
       "      <td>5</td>\n",
       "      <td>13.3</td>\n",
       "    </tr>\n",
       "    <tr>\n",
       "      <th>4</th>\n",
       "      <td>2020</td>\n",
       "      <td>6</td>\n",
       "      <td>12.6</td>\n",
       "    </tr>\n",
       "  </tbody>\n",
       "</table>\n",
       "</div>"
      ],
      "text/plain": [
       "   YEAR  MONTHINDEX  GAIN AFT TAX\n",
       "0  2020           1           5.6\n",
       "1  2020           2           6.3\n",
       "2  2020           3           7.0\n",
       "3  2020           5          13.3\n",
       "4  2020           6          12.6"
      ]
     },
     "execution_count": 12,
     "metadata": {},
     "output_type": "execute_result"
    },
    {
     "data": {
      "text/plain": [
       "<matplotlib.axes._subplots.AxesSubplot at 0x7f022b34b390>"
      ]
     },
     "execution_count": 12,
     "metadata": {},
     "output_type": "execute_result"
    },
    {
     "data": {
      "image/png": "[encoded data removed]",
      "text/plain": [
       "<Figure size 432x288 with 1 Axes>"
      ]
     },
     "metadata": {
      "needs_background": "light"
     },
     "output_type": "display_data"
    }
   ],
   "source": [
    "gainsPerYearPerMonth = dataFrame.groupby([\"YEAR\",\"MONTHINDEX\"])[\"GAIN AFT TAX\"].sum()\n",
    "gainsPerYearPerMonth.to_frame().reset_index()\n",
    "gainsPerYearPerMonth.plot(kind='line')"
   ]
  },
  {
   "cell_type": "markdown",
   "metadata": {},
   "source": [
    "## -- TOTAL GAIN PER STORY --"
   ]
  },
  {
   "cell_type": "code",
   "execution_count": 13,
   "metadata": {
    "ExecuteTime": {
     "end_time": "2020-06-20T20:55:43.092213Z",
     "start_time": "2020-06-20T20:55:42.985020Z"
    }
   },
   "outputs": [
    {
     "data": {
      "text/html": [
       "<div>\n",
       "<style scoped>\n",
       "    .dataframe tbody tr th:only-of-type {\n",
       "        vertical-align: middle;\n",
       "    }\n",
       "\n",
       "    .dataframe tbody tr th {\n",
       "        vertical-align: top;\n",
       "    }\n",
       "\n",
       "    .dataframe thead th {\n",
       "        text-align: right;\n",
       "    }\n",
       "</style>\n",
       "<table border=\"1\" class=\"dataframe\">\n",
       "  <thead>\n",
       "    <tr style=\"text-align: right;\">\n",
       "      <th></th>\n",
       "      <th>STORY</th>\n",
       "      <th>GAIN AFT TAX</th>\n",
       "    </tr>\n",
       "  </thead>\n",
       "  <tbody>\n",
       "    <tr>\n",
       "      <th>0</th>\n",
       "      <td>My First Story</td>\n",
       "      <td>30.8</td>\n",
       "    </tr>\n",
       "    <tr>\n",
       "      <th>1</th>\n",
       "      <td>My Second Story</td>\n",
       "      <td>14.0</td>\n",
       "    </tr>\n",
       "  </tbody>\n",
       "</table>\n",
       "</div>"
      ],
      "text/plain": [
       "             STORY  GAIN AFT TAX\n",
       "0   My First Story          30.8\n",
       "1  My Second Story          14.0"
      ]
     },
     "execution_count": 13,
     "metadata": {},
     "output_type": "execute_result"
    },
    {
     "data": {
      "text/plain": [
       "<matplotlib.axes._subplots.AxesSubplot at 0x7f022b2e2850>"
      ]
     },
     "execution_count": 13,
     "metadata": {},
     "output_type": "execute_result"
    },
    {
     "data": {
      "image/png": "[encoded data removed]",
      "text/plain": [
       "<Figure size 432x288 with 1 Axes>"
      ]
     },
     "metadata": {
      "needs_background": "light"
     },
     "output_type": "display_data"
    }
   ],
   "source": [
    "gainsPerStory = dataFrame.groupby([\"STORY\"])[\"GAIN AFT TAX\"].sum()\n",
    "gainsPerStory.to_frame().reset_index()\n",
    "gainsPerStory.plot(kind='bar')"
   ]
  }
 ],
 "metadata": {
  "kernelspec": {
   "display_name": "Python 3",
   "language": "python",
   "name": "python3"
  },
  "language_info": {
   "codemirror_mode": {
    "name": "ipython",
    "version": 3
   },
   "file_extension": ".py",
   "mimetype": "text/x-python",
   "name": "python",
   "nbconvert_exporter": "python",
   "pygments_lexer": "ipython3",
   "version": "3.7.6"
  },
  "toc": {
   "base_numbering": 1,
   "nav_menu": {},
   "number_sections": false,
   "sideBar": false,
   "skip_h1_title": false,
   "title_cell": "Table of Contents",
   "title_sidebar": "Contents",
   "toc_cell": false,
   "toc_position": {},
   "toc_section_display": false,
   "toc_window_display": false
  }
 },
 "nbformat": 4,
 "nbformat_minor": 2
}
